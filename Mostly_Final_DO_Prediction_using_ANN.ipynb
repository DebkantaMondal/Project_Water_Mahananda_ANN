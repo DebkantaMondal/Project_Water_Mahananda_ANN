{
 "cells": [
  {
   "cell_type": "code",
   "execution_count": 1,
   "id": "46e4d410",
   "metadata": {},
   "outputs": [],
   "source": [
    "import pandas as pd\n",
    "import numpy as np\n",
    "import matplotlib.pyplot as plt\n",
    "import seaborn as sns\n"
   ]
  },
  {
   "cell_type": "markdown",
   "id": "790e1ff9",
   "metadata": {},
   "source": [
    "## Normalized Data Read & Understand Again Before Model Input"
   ]
  },
  {
   "cell_type": "code",
   "execution_count": 3,
   "id": "cc8b1948",
   "metadata": {},
   "outputs": [],
   "source": [
    "df = pd.read_csv('dataset/Mahananda_River_Water_at_Siliguri_Normalized_Data.csv', encoding = 'ISO-8859-1')"
   ]
  },
  {
   "cell_type": "code",
   "execution_count": 4,
   "id": "44e35541",
   "metadata": {},
   "outputs": [
    {
     "data": {
      "text/plain": [
       "Unnamed: 0                     0\n",
       "COD                            0\n",
       "Conductivity                   0\n",
       "Dissolved O2(DO)               0\n",
       "pH                             0\n",
       "Potassium                      0\n",
       "Sulphate                       0\n",
       "Temperature                    0\n",
       "Total Coliform                 0\n",
       "Total Dissolved Solids(TDS)    0\n",
       "Total Hardness as CaCo3        0\n",
       "Turbidity                      0\n",
       "dtype: int64"
      ]
     },
     "execution_count": 4,
     "metadata": {},
     "output_type": "execute_result"
    }
   ],
   "source": [
    "df.isnull().sum()"
   ]
  },
  {
   "cell_type": "code",
   "execution_count": 6,
   "id": "eeeb7d76",
   "metadata": {},
   "outputs": [],
   "source": [
    "df.drop(['Unnamed: 0'], axis=1, inplace=True)"
   ]
  },
  {
   "cell_type": "code",
   "execution_count": 268,
   "id": "102a42a3",
   "metadata": {},
   "outputs": [
    {
     "data": {
      "text/html": [
       "<div>\n",
       "<style scoped>\n",
       "    .dataframe tbody tr th:only-of-type {\n",
       "        vertical-align: middle;\n",
       "    }\n",
       "\n",
       "    .dataframe tbody tr th {\n",
       "        vertical-align: top;\n",
       "    }\n",
       "\n",
       "    .dataframe thead th {\n",
       "        text-align: right;\n",
       "    }\n",
       "</style>\n",
       "<table border=\"1\" class=\"dataframe\">\n",
       "  <thead>\n",
       "    <tr style=\"text-align: right;\">\n",
       "      <th></th>\n",
       "      <th>COD</th>\n",
       "      <th>Conductivity</th>\n",
       "      <th>Dissolved O2(DO)</th>\n",
       "      <th>pH</th>\n",
       "      <th>Potassium</th>\n",
       "      <th>Sulphate</th>\n",
       "      <th>Temperature</th>\n",
       "      <th>Total Coliform</th>\n",
       "      <th>Total Dissolved Solids(TDS)</th>\n",
       "      <th>Total Hardness as CaCo3</th>\n",
       "      <th>Turbidity</th>\n",
       "    </tr>\n",
       "  </thead>\n",
       "  <tbody>\n",
       "    <tr>\n",
       "      <th>0</th>\n",
       "      <td>20.340078</td>\n",
       "      <td>179.32</td>\n",
       "      <td>7.0</td>\n",
       "      <td>7.19</td>\n",
       "      <td>4.279921</td>\n",
       "      <td>13.360183</td>\n",
       "      <td>14.0</td>\n",
       "      <td>8000.0</td>\n",
       "      <td>138.402344</td>\n",
       "      <td>58.555469</td>\n",
       "      <td>69.779286</td>\n",
       "    </tr>\n",
       "    <tr>\n",
       "      <th>1</th>\n",
       "      <td>32.000000</td>\n",
       "      <td>179.32</td>\n",
       "      <td>7.3</td>\n",
       "      <td>7.21</td>\n",
       "      <td>4.000000</td>\n",
       "      <td>11.100000</td>\n",
       "      <td>26.0</td>\n",
       "      <td>8000.0</td>\n",
       "      <td>112.000000</td>\n",
       "      <td>52.500000</td>\n",
       "      <td>27.100000</td>\n",
       "    </tr>\n",
       "    <tr>\n",
       "      <th>2</th>\n",
       "      <td>20.340078</td>\n",
       "      <td>179.32</td>\n",
       "      <td>7.3</td>\n",
       "      <td>7.10</td>\n",
       "      <td>4.279921</td>\n",
       "      <td>13.360183</td>\n",
       "      <td>29.0</td>\n",
       "      <td>11000.0</td>\n",
       "      <td>138.402344</td>\n",
       "      <td>58.555469</td>\n",
       "      <td>69.779286</td>\n",
       "    </tr>\n",
       "    <tr>\n",
       "      <th>3</th>\n",
       "      <td>20.340078</td>\n",
       "      <td>179.32</td>\n",
       "      <td>7.3</td>\n",
       "      <td>6.97</td>\n",
       "      <td>4.279921</td>\n",
       "      <td>13.360183</td>\n",
       "      <td>30.0</td>\n",
       "      <td>14000.0</td>\n",
       "      <td>138.402344</td>\n",
       "      <td>58.555469</td>\n",
       "      <td>69.779286</td>\n",
       "    </tr>\n",
       "    <tr>\n",
       "      <th>4</th>\n",
       "      <td>20.340078</td>\n",
       "      <td>179.32</td>\n",
       "      <td>7.4</td>\n",
       "      <td>6.95</td>\n",
       "      <td>4.279921</td>\n",
       "      <td>13.360183</td>\n",
       "      <td>20.0</td>\n",
       "      <td>14000.0</td>\n",
       "      <td>138.402344</td>\n",
       "      <td>58.555469</td>\n",
       "      <td>69.779286</td>\n",
       "    </tr>\n",
       "    <tr>\n",
       "      <th>...</th>\n",
       "      <td>...</td>\n",
       "      <td>...</td>\n",
       "      <td>...</td>\n",
       "      <td>...</td>\n",
       "      <td>...</td>\n",
       "      <td>...</td>\n",
       "      <td>...</td>\n",
       "      <td>...</td>\n",
       "      <td>...</td>\n",
       "      <td>...</td>\n",
       "      <td>...</td>\n",
       "    </tr>\n",
       "    <tr>\n",
       "      <th>129</th>\n",
       "      <td>9.800000</td>\n",
       "      <td>179.32</td>\n",
       "      <td>7.5</td>\n",
       "      <td>7.10</td>\n",
       "      <td>3.010000</td>\n",
       "      <td>11.200000</td>\n",
       "      <td>28.0</td>\n",
       "      <td>38000.0</td>\n",
       "      <td>144.000000</td>\n",
       "      <td>31.000000</td>\n",
       "      <td>5.900000</td>\n",
       "    </tr>\n",
       "    <tr>\n",
       "      <th>130</th>\n",
       "      <td>8.000000</td>\n",
       "      <td>179.32</td>\n",
       "      <td>6.8</td>\n",
       "      <td>7.06</td>\n",
       "      <td>3.000000</td>\n",
       "      <td>8.990000</td>\n",
       "      <td>23.0</td>\n",
       "      <td>24000.0</td>\n",
       "      <td>150.000000</td>\n",
       "      <td>45.000000</td>\n",
       "      <td>6.620000</td>\n",
       "    </tr>\n",
       "    <tr>\n",
       "      <th>131</th>\n",
       "      <td>10.000000</td>\n",
       "      <td>179.32</td>\n",
       "      <td>7.1</td>\n",
       "      <td>7.01</td>\n",
       "      <td>4.000000</td>\n",
       "      <td>9.450000</td>\n",
       "      <td>28.0</td>\n",
       "      <td>28000.0</td>\n",
       "      <td>126.000000</td>\n",
       "      <td>58.000000</td>\n",
       "      <td>21.000000</td>\n",
       "    </tr>\n",
       "    <tr>\n",
       "      <th>132</th>\n",
       "      <td>5.200000</td>\n",
       "      <td>179.32</td>\n",
       "      <td>6.9</td>\n",
       "      <td>6.91</td>\n",
       "      <td>2.300000</td>\n",
       "      <td>10.200000</td>\n",
       "      <td>22.0</td>\n",
       "      <td>36000.0</td>\n",
       "      <td>111.000000</td>\n",
       "      <td>50.000000</td>\n",
       "      <td>9.610000</td>\n",
       "    </tr>\n",
       "    <tr>\n",
       "      <th>133</th>\n",
       "      <td>10.000000</td>\n",
       "      <td>179.32</td>\n",
       "      <td>6.2</td>\n",
       "      <td>7.20</td>\n",
       "      <td>2.000000</td>\n",
       "      <td>13.360183</td>\n",
       "      <td>22.0</td>\n",
       "      <td>40000.0</td>\n",
       "      <td>120.000000</td>\n",
       "      <td>40.000000</td>\n",
       "      <td>52.000000</td>\n",
       "    </tr>\n",
       "  </tbody>\n",
       "</table>\n",
       "<p>134 rows × 11 columns</p>\n",
       "</div>"
      ],
      "text/plain": [
       "           COD  Conductivity  Dissolved O2(DO)    pH  Potassium   Sulphate  \\\n",
       "0    20.340078        179.32               7.0  7.19   4.279921  13.360183   \n",
       "1    32.000000        179.32               7.3  7.21   4.000000  11.100000   \n",
       "2    20.340078        179.32               7.3  7.10   4.279921  13.360183   \n",
       "3    20.340078        179.32               7.3  6.97   4.279921  13.360183   \n",
       "4    20.340078        179.32               7.4  6.95   4.279921  13.360183   \n",
       "..         ...           ...               ...   ...        ...        ...   \n",
       "129   9.800000        179.32               7.5  7.10   3.010000  11.200000   \n",
       "130   8.000000        179.32               6.8  7.06   3.000000   8.990000   \n",
       "131  10.000000        179.32               7.1  7.01   4.000000   9.450000   \n",
       "132   5.200000        179.32               6.9  6.91   2.300000  10.200000   \n",
       "133  10.000000        179.32               6.2  7.20   2.000000  13.360183   \n",
       "\n",
       "     Temperature  Total Coliform  Total Dissolved Solids(TDS)  \\\n",
       "0           14.0          8000.0                   138.402344   \n",
       "1           26.0          8000.0                   112.000000   \n",
       "2           29.0         11000.0                   138.402344   \n",
       "3           30.0         14000.0                   138.402344   \n",
       "4           20.0         14000.0                   138.402344   \n",
       "..           ...             ...                          ...   \n",
       "129         28.0         38000.0                   144.000000   \n",
       "130         23.0         24000.0                   150.000000   \n",
       "131         28.0         28000.0                   126.000000   \n",
       "132         22.0         36000.0                   111.000000   \n",
       "133         22.0         40000.0                   120.000000   \n",
       "\n",
       "     Total Hardness as CaCo3  Turbidity  \n",
       "0                  58.555469  69.779286  \n",
       "1                  52.500000  27.100000  \n",
       "2                  58.555469  69.779286  \n",
       "3                  58.555469  69.779286  \n",
       "4                  58.555469  69.779286  \n",
       "..                       ...        ...  \n",
       "129                31.000000   5.900000  \n",
       "130                45.000000   6.620000  \n",
       "131                58.000000  21.000000  \n",
       "132                50.000000   9.610000  \n",
       "133                40.000000  52.000000  \n",
       "\n",
       "[134 rows x 11 columns]"
      ]
     },
     "execution_count": 268,
     "metadata": {},
     "output_type": "execute_result"
    }
   ],
   "source": [
    "df"
   ]
  },
  {
   "cell_type": "code",
   "execution_count": 7,
   "id": "9fd2c46e",
   "metadata": {},
   "outputs": [
    {
     "data": {
      "text/plain": [
       "Index(['COD', 'Conductivity', 'Dissolved O2(DO)', 'pH', 'Potassium',\n",
       "       'Sulphate', 'Temperature', 'Total Coliform',\n",
       "       'Total Dissolved Solids(TDS)', 'Total Hardness as CaCo3', 'Turbidity'],\n",
       "      dtype='object')"
      ]
     },
     "execution_count": 7,
     "metadata": {},
     "output_type": "execute_result"
    }
   ],
   "source": [
    "df.columns"
   ]
  },
  {
   "cell_type": "markdown",
   "id": "141fb440",
   "metadata": {},
   "source": [
    "### Making Relationship with Other Parameters to DO using Scatter Plot"
   ]
  },
  {
   "cell_type": "code",
   "execution_count": 309,
   "id": "7218a490",
   "metadata": {},
   "outputs": [
    {
     "data": {
      "image/png": "[encoded data removed]",
      "text/plain": [
       "<Figure size 432x288 with 1 Axes>"
      ]
     },
     "metadata": {
      "needs_background": "light"
     },
     "output_type": "display_data"
    }
   ],
   "source": [
    "y_axis = df['Conductivity']\n",
    "x_axis = df['Dissolved O2(DO)']\n",
    "plt.ylabel('Conductivity')\n",
    "plt.xlabel('DO')\n",
    "plt.scatter(x_axis,y_axis)\n",
    "plt.show()"
   ]
  },
  {
   "cell_type": "markdown",
   "id": "7ef4ed9e",
   "metadata": {},
   "source": [
    "#### Conclude: Conductivity is Constant lying apprx 178-180 wrt DO increasing"
   ]
  },
  {
   "cell_type": "code",
   "execution_count": 310,
   "id": "061dccf3",
   "metadata": {},
   "outputs": [
    {
     "data": {
      "image/png": "[encoded data removed]",
      "text/plain": [
       "<Figure size 432x288 with 1 Axes>"
      ]
     },
     "metadata": {
      "needs_background": "light"
     },
     "output_type": "display_data"
    }
   ],
   "source": [
    "y_axis = df['pH']\n",
    "x_axis = df['Dissolved O2(DO)']\n",
    "plt.ylabel('pH')\n",
    "plt.xlabel('DO')\n",
    "plt.scatter(x_axis,y_axis)\n",
    "plt.show()"
   ]
  },
  {
   "cell_type": "markdown",
   "id": "e7fadcc7",
   "metadata": {},
   "source": [
    "#### Conclude: pH is lying mostly in between 6.5-8.0 when DO is in 5.5-8.5"
   ]
  },
  {
   "cell_type": "code",
   "execution_count": 311,
   "id": "8d6cc1c3",
   "metadata": {},
   "outputs": [
    {
     "data": {
      "image/png": "[encoded data removed]",
      "text/plain": [
       "<Figure size 432x288 with 1 Axes>"
      ]
     },
     "metadata": {
      "needs_background": "light"
     },
     "output_type": "display_data"
    }
   ],
   "source": [
    "y_axis = df['Potassium']\n",
    "x_axis = df['Dissolved O2(DO)']\n",
    "plt.ylabel('Potassium')\n",
    "plt.xlabel('DO')\n",
    "plt.scatter(x_axis,y_axis)\n",
    "plt.show()"
   ]
  },
  {
   "cell_type": "markdown",
   "id": "bcb8cfc8",
   "metadata": {},
   "source": [
    "#### Conclude: Potassium is mostly lying in between 1.5-8.0 when DO in 5.0-9.0"
   ]
  },
  {
   "cell_type": "code",
   "execution_count": 312,
   "id": "7004a647",
   "metadata": {},
   "outputs": [
    {
     "data": {
      "image/png": "[encoded data removed]",
      "text/plain": [
       "<Figure size 432x288 with 1 Axes>"
      ]
     },
     "metadata": {
      "needs_background": "light"
     },
     "output_type": "display_data"
    }
   ],
   "source": [
    "y_axis = df['Sulphate']\n",
    "x_axis = df['Dissolved O2(DO)']\n",
    "plt.ylabel('Sulphate')\n",
    "plt.xlabel('DO')\n",
    "plt.scatter(x_axis,y_axis)\n",
    "plt.show()"
   ]
  },
  {
   "cell_type": "markdown",
   "id": "d403487d",
   "metadata": {},
   "source": [
    "#### Conclude: Sulphate is mostly lying in between 0-25.0 when DO is in 5.0-9.0"
   ]
  },
  {
   "cell_type": "code",
   "execution_count": 313,
   "id": "bab74d86",
   "metadata": {},
   "outputs": [
    {
     "data": {
      "image/png": "[encoded data removed]",
      "text/plain": [
       "<Figure size 432x288 with 1 Axes>"
      ]
     },
     "metadata": {
      "needs_background": "light"
     },
     "output_type": "display_data"
    }
   ],
   "source": [
    "y_axis = df['Temperature']\n",
    "x_axis = df['Dissolved O2(DO)']\n",
    "plt.ylabel('Temp')\n",
    "plt.xlabel('DO')\n",
    "plt.scatter(x_axis,y_axis)\n",
    "plt.show()"
   ]
  },
  {
   "cell_type": "markdown",
   "id": "c993fa15",
   "metadata": {},
   "source": [
    "#### Conclude: Temp is mostly lying in between 10-35.0 when DO is in 5.0-9.0"
   ]
  },
  {
   "cell_type": "code",
   "execution_count": 314,
   "id": "80de7ab2",
   "metadata": {},
   "outputs": [
    {
     "data": {
      "image/png": "[encoded data removed]",
      "text/plain": [
       "<Figure size 432x288 with 1 Axes>"
      ]
     },
     "metadata": {
      "needs_background": "light"
     },
     "output_type": "display_data"
    }
   ],
   "source": [
    "y_axis = df['Total Dissolved Solids(TDS)']\n",
    "x_axis = df['Dissolved O2(DO)']\n",
    "plt.ylabel('TDS')\n",
    "plt.xlabel('DO')\n",
    "plt.scatter(x_axis,y_axis)\n",
    "plt.show()"
   ]
  },
  {
   "cell_type": "markdown",
   "id": "6121ff22",
   "metadata": {},
   "source": [
    "#### Conclude: TDS is mostly lying in between 0-200.0 when DO is in 5.0-9.0"
   ]
  },
  {
   "cell_type": "code",
   "execution_count": 315,
   "id": "045515de",
   "metadata": {},
   "outputs": [
    {
     "data": {
      "image/png": "[encoded data removed]",
      "text/plain": [
       "<Figure size 432x288 with 1 Axes>"
      ]
     },
     "metadata": {
      "needs_background": "light"
     },
     "output_type": "display_data"
    }
   ],
   "source": [
    "y_axis = df['Total Hardness as CaCo3']\n",
    "x_axis = df['Dissolved O2(DO)']\n",
    "plt.ylabel('Hardness')\n",
    "plt.xlabel('DO')\n",
    "plt.scatter(x_axis,y_axis)\n",
    "plt.show()"
   ]
  },
  {
   "cell_type": "markdown",
   "id": "87982fc7",
   "metadata": {},
   "source": [
    "#### Conclude: Hardness is mostly lying in between 30-90 when DO is in 5.0-9.0"
   ]
  },
  {
   "cell_type": "markdown",
   "id": "73f57c26",
   "metadata": {},
   "source": [
    "#### Removing Total Coliform , COD, Turbidity because of its Discrete Behavior of Spreadness and After Normalize They don't react because of that reason :  Taking Independent Features as : Conductivity , pH, Potassium, Sulphate, Temp, TDS , Hardness and Dependent Feature is DO"
   ]
  },
  {
   "cell_type": "code",
   "execution_count": 143,
   "id": "c8cc4a7e",
   "metadata": {},
   "outputs": [],
   "source": [
    "x = df.drop(columns=['Dissolved O2(DO)','Total Coliform','COD','Turbidity'], axis=1)"
   ]
  },
  {
   "cell_type": "code",
   "execution_count": 144,
   "id": "8f903681",
   "metadata": {},
   "outputs": [
    {
     "data": {
      "text/html": [
       "<div>\n",
       "<style scoped>\n",
       "    .dataframe tbody tr th:only-of-type {\n",
       "        vertical-align: middle;\n",
       "    }\n",
       "\n",
       "    .dataframe tbody tr th {\n",
       "        vertical-align: top;\n",
       "    }\n",
       "\n",
       "    .dataframe thead th {\n",
       "        text-align: right;\n",
       "    }\n",
       "</style>\n",
       "<table border=\"1\" class=\"dataframe\">\n",
       "  <thead>\n",
       "    <tr style=\"text-align: right;\">\n",
       "      <th></th>\n",
       "      <th>Conductivity</th>\n",
       "      <th>pH</th>\n",
       "      <th>Potassium</th>\n",
       "      <th>Sulphate</th>\n",
       "      <th>Temperature</th>\n",
       "      <th>Total Dissolved Solids(TDS)</th>\n",
       "      <th>Total Hardness as CaCo3</th>\n",
       "    </tr>\n",
       "  </thead>\n",
       "  <tbody>\n",
       "    <tr>\n",
       "      <th>0</th>\n",
       "      <td>179.32</td>\n",
       "      <td>7.19</td>\n",
       "      <td>4.279921</td>\n",
       "      <td>13.360183</td>\n",
       "      <td>14.0</td>\n",
       "      <td>138.402344</td>\n",
       "      <td>58.555469</td>\n",
       "    </tr>\n",
       "    <tr>\n",
       "      <th>1</th>\n",
       "      <td>179.32</td>\n",
       "      <td>7.21</td>\n",
       "      <td>4.000000</td>\n",
       "      <td>11.100000</td>\n",
       "      <td>26.0</td>\n",
       "      <td>112.000000</td>\n",
       "      <td>52.500000</td>\n",
       "    </tr>\n",
       "    <tr>\n",
       "      <th>2</th>\n",
       "      <td>179.32</td>\n",
       "      <td>7.10</td>\n",
       "      <td>4.279921</td>\n",
       "      <td>13.360183</td>\n",
       "      <td>29.0</td>\n",
       "      <td>138.402344</td>\n",
       "      <td>58.555469</td>\n",
       "    </tr>\n",
       "    <tr>\n",
       "      <th>3</th>\n",
       "      <td>179.32</td>\n",
       "      <td>6.97</td>\n",
       "      <td>4.279921</td>\n",
       "      <td>13.360183</td>\n",
       "      <td>30.0</td>\n",
       "      <td>138.402344</td>\n",
       "      <td>58.555469</td>\n",
       "    </tr>\n",
       "    <tr>\n",
       "      <th>4</th>\n",
       "      <td>179.32</td>\n",
       "      <td>6.95</td>\n",
       "      <td>4.279921</td>\n",
       "      <td>13.360183</td>\n",
       "      <td>20.0</td>\n",
       "      <td>138.402344</td>\n",
       "      <td>58.555469</td>\n",
       "    </tr>\n",
       "    <tr>\n",
       "      <th>...</th>\n",
       "      <td>...</td>\n",
       "      <td>...</td>\n",
       "      <td>...</td>\n",
       "      <td>...</td>\n",
       "      <td>...</td>\n",
       "      <td>...</td>\n",
       "      <td>...</td>\n",
       "    </tr>\n",
       "    <tr>\n",
       "      <th>129</th>\n",
       "      <td>179.32</td>\n",
       "      <td>7.10</td>\n",
       "      <td>3.010000</td>\n",
       "      <td>11.200000</td>\n",
       "      <td>28.0</td>\n",
       "      <td>144.000000</td>\n",
       "      <td>31.000000</td>\n",
       "    </tr>\n",
       "    <tr>\n",
       "      <th>130</th>\n",
       "      <td>179.32</td>\n",
       "      <td>7.06</td>\n",
       "      <td>3.000000</td>\n",
       "      <td>8.990000</td>\n",
       "      <td>23.0</td>\n",
       "      <td>150.000000</td>\n",
       "      <td>45.000000</td>\n",
       "    </tr>\n",
       "    <tr>\n",
       "      <th>131</th>\n",
       "      <td>179.32</td>\n",
       "      <td>7.01</td>\n",
       "      <td>4.000000</td>\n",
       "      <td>9.450000</td>\n",
       "      <td>28.0</td>\n",
       "      <td>126.000000</td>\n",
       "      <td>58.000000</td>\n",
       "    </tr>\n",
       "    <tr>\n",
       "      <th>132</th>\n",
       "      <td>179.32</td>\n",
       "      <td>6.91</td>\n",
       "      <td>2.300000</td>\n",
       "      <td>10.200000</td>\n",
       "      <td>22.0</td>\n",
       "      <td>111.000000</td>\n",
       "      <td>50.000000</td>\n",
       "    </tr>\n",
       "    <tr>\n",
       "      <th>133</th>\n",
       "      <td>179.32</td>\n",
       "      <td>7.20</td>\n",
       "      <td>2.000000</td>\n",
       "      <td>13.360183</td>\n",
       "      <td>22.0</td>\n",
       "      <td>120.000000</td>\n",
       "      <td>40.000000</td>\n",
       "    </tr>\n",
       "  </tbody>\n",
       "</table>\n",
       "<p>134 rows × 7 columns</p>\n",
       "</div>"
      ],
      "text/plain": [
       "     Conductivity    pH  Potassium   Sulphate  Temperature  \\\n",
       "0          179.32  7.19   4.279921  13.360183         14.0   \n",
       "1          179.32  7.21   4.000000  11.100000         26.0   \n",
       "2          179.32  7.10   4.279921  13.360183         29.0   \n",
       "3          179.32  6.97   4.279921  13.360183         30.0   \n",
       "4          179.32  6.95   4.279921  13.360183         20.0   \n",
       "..            ...   ...        ...        ...          ...   \n",
       "129        179.32  7.10   3.010000  11.200000         28.0   \n",
       "130        179.32  7.06   3.000000   8.990000         23.0   \n",
       "131        179.32  7.01   4.000000   9.450000         28.0   \n",
       "132        179.32  6.91   2.300000  10.200000         22.0   \n",
       "133        179.32  7.20   2.000000  13.360183         22.0   \n",
       "\n",
       "     Total Dissolved Solids(TDS)  Total Hardness as CaCo3  \n",
       "0                     138.402344                58.555469  \n",
       "1                     112.000000                52.500000  \n",
       "2                     138.402344                58.555469  \n",
       "3                     138.402344                58.555469  \n",
       "4                     138.402344                58.555469  \n",
       "..                           ...                      ...  \n",
       "129                   144.000000                31.000000  \n",
       "130                   150.000000                45.000000  \n",
       "131                   126.000000                58.000000  \n",
       "132                   111.000000                50.000000  \n",
       "133                   120.000000                40.000000  \n",
       "\n",
       "[134 rows x 7 columns]"
      ]
     },
     "execution_count": 144,
     "metadata": {},
     "output_type": "execute_result"
    }
   ],
   "source": [
    "x"
   ]
  },
  {
   "cell_type": "markdown",
   "id": "8ed74013",
   "metadata": {},
   "source": [
    "#### Checking Normalization Again through Histogram before Model Feeding"
   ]
  },
  {
   "cell_type": "code",
   "execution_count": 145,
   "id": "d7cee3ef",
   "metadata": {},
   "outputs": [
    {
     "data": {
      "text/plain": [
       "array([[<AxesSubplot:title={'center':'Conductivity'}>,\n",
       "        <AxesSubplot:title={'center':'pH'}>,\n",
       "        <AxesSubplot:title={'center':'Potassium'}>],\n",
       "       [<AxesSubplot:title={'center':'Sulphate'}>,\n",
       "        <AxesSubplot:title={'center':'Temperature'}>,\n",
       "        <AxesSubplot:title={'center':'Total Dissolved Solids(TDS)'}>],\n",
       "       [<AxesSubplot:title={'center':'Total Hardness as CaCo3'}>,\n",
       "        <AxesSubplot:>, <AxesSubplot:>]], dtype=object)"
      ]
     },
     "execution_count": 145,
     "metadata": {},
     "output_type": "execute_result"
    },
    {
     "data": {
      "image/png": "[encoded data removed]",
      "text/plain": [
       "<Figure size 432x288 with 9 Axes>"
      ]
     },
     "metadata": {
      "needs_background": "light"
     },
     "output_type": "display_data"
    }
   ],
   "source": [
    "x.hist()"
   ]
  },
  {
   "cell_type": "markdown",
   "id": "544eabbd",
   "metadata": {},
   "source": [
    "#### Conclude:  All taking as X(independent Features) are quite Normalized and also dependent Feature(Y)"
   ]
  },
  {
   "cell_type": "code",
   "execution_count": 146,
   "id": "9a61c5ba",
   "metadata": {},
   "outputs": [],
   "source": [
    "y = df['Dissolved O2(DO)']"
   ]
  },
  {
   "cell_type": "code",
   "execution_count": 147,
   "id": "93683a23",
   "metadata": {},
   "outputs": [
    {
     "data": {
      "text/plain": [
       "0      7.0\n",
       "1      7.3\n",
       "2      7.3\n",
       "3      7.3\n",
       "4      7.4\n",
       "      ... \n",
       "129    7.5\n",
       "130    6.8\n",
       "131    7.1\n",
       "132    6.9\n",
       "133    6.2\n",
       "Name: Dissolved O2(DO), Length: 134, dtype: float64"
      ]
     },
     "execution_count": 147,
     "metadata": {},
     "output_type": "execute_result"
    }
   ],
   "source": [
    "y\n"
   ]
  },
  {
   "cell_type": "markdown",
   "id": "7021e718",
   "metadata": {},
   "source": [
    "### Transform X and Y to be in same range , that's why Model can properly recongnize and classify them , NOT like a big value interms of a shorter one can neglify another. So Using Min Max Scaling Normalization we done that"
   ]
  },
  {
   "cell_type": "code",
   "execution_count": 148,
   "id": "51b962fe",
   "metadata": {},
   "outputs": [],
   "source": [
    "from sklearn.preprocessing import MinMaxScaler\n",
    "scaler = MinMaxScaler()\n",
    "X_scaled = scaler.fit_transform(x)"
   ]
  },
  {
   "cell_type": "code",
   "execution_count": 149,
   "id": "badda441",
   "metadata": {},
   "outputs": [
    {
     "data": {
      "text/plain": [
       "array([[0.        , 0.50621118, 0.18721542, 0.30403767, 0.06161473,\n",
       "        0.25810082, 0.51529665],\n",
       "       [0.        , 0.51242236, 0.16932907, 0.2523279 , 0.27407932,\n",
       "        0.1952381 , 0.42753623],\n",
       "       [0.        , 0.47826087, 0.18721542, 0.30403767, 0.32719547,\n",
       "        0.25810082, 0.51529665],\n",
       "       [0.        , 0.4378882 , 0.18721542, 0.30403767, 0.34490085,\n",
       "        0.25810082, 0.51529665],\n",
       "       [0.        , 0.43167702, 0.18721542, 0.30403767, 0.16784703,\n",
       "        0.25810082, 0.51529665],\n",
       "       [0.        , 0.48330435, 0.23322684, 0.02537235, 0.16784703,\n",
       "        0.18571429, 0.41304348],\n",
       "       [0.        , 0.48330435, 0.22811502, 0.10796403, 0.2917847 ,\n",
       "        0.18571429, 0.47826087],\n",
       "       [0.        , 0.43478261, 0.16932907, 0.03292228, 0.23866856,\n",
       "        0.18095238, 0.60347826],\n",
       "       [0.        , 0.48330435, 0.18721542, 0.03063442, 0.18555241,\n",
       "        0.16666667, 0.60347826],\n",
       "       [0.        , 0.43167702, 0.10543131, 0.06678258, 0.36260623,\n",
       "        0.28095238, 0.34      ],\n",
       "       [0.        , 0.48330435, 0.10543131, 0.        , 0.30949008,\n",
       "        0.        , 0.34      ],\n",
       "       [0.        , 0.44099379, 0.10543131, 0.00322588, 0.32719547,\n",
       "        0.14285714, 0.42782609],\n",
       "       [0.        , 0.52795031, 0.04153355, 0.19009815, 0.2917847 ,\n",
       "        0.25810082, 0.42782609],\n",
       "       [0.        , 0.48330435, 0.10543131, 0.30403767, 0.32719547,\n",
       "        0.22857143, 0.53623188],\n",
       "       [0.        , 0.45962733, 0.16932907, 0.21526459, 0.30949008,\n",
       "        0.        , 0.53623188],\n",
       "       [0.        , 0.48330435, 0.18721542, 0.30403767, 0.2917847 ,\n",
       "        0.20952381, 0.5942029 ],\n",
       "       [0.        , 0.50621118, 0.16932907, 0.31455764, 0.18555241,\n",
       "        0.30952381, 0.10144928],\n",
       "       [0.        , 0.50310559, 0.16932907, 0.34063923, 0.23866856,\n",
       "        0.29047619, 0.56521739],\n",
       "       [0.        , 0.42857143, 0.23322684, 0.29648356, 0.25637394,\n",
       "        0.28571429, 0.68115942],\n",
       "       [0.        , 0.47204969, 0.16932907, 0.35711181, 0.34490085,\n",
       "        0.22380952, 0.64217391],\n",
       "       [0.        , 0.39130435, 0.16932907, 0.44199135, 0.30949008,\n",
       "        0.33571429, 0.71014493],\n",
       "       [0.        , 0.54347826, 0.23322684, 0.52069368, 0.30949008,\n",
       "        0.33333333, 0.75188406],\n",
       "       [0.        , 0.53416149, 0.10543131, 0.28801849, 0.2917847 ,\n",
       "        0.85714286, 0.36231884],\n",
       "       [0.        , 0.51863354, 0.10543131, 0.23425382, 0.34490085,\n",
       "        0.2547619 , 0.42028986],\n",
       "       [0.        , 0.58385093, 0.08945687, 0.34155437, 0.25637394,\n",
       "        0.15714286, 0.76811594],\n",
       "       [0.        , 0.52484472, 0.10543131, 0.29145027, 0.32719547,\n",
       "        0.03333333, 0.50724638],\n",
       "       [0.        , 0.77639752, 0.15782748, 0.21755245, 0.27407932,\n",
       "        0.08571429, 0.5942029 ],\n",
       "       [0.        , 0.69875776, 0.46198083, 0.34361344, 0.18555241,\n",
       "        0.16190476, 0.71014493],\n",
       "       [0.        , 0.83229814, 0.42492013, 0.40264019, 0.15014164,\n",
       "        0.31904762, 0.25666667],\n",
       "       [0.        , 0.60559006, 0.35335463, 0.7270585 , 0.16784703,\n",
       "        0.36190476, 0.6157971 ],\n",
       "       [0.        , 0.87267081, 0.21469649, 0.29877142, 0.23866856,\n",
       "        0.25714286, 0.48753623],\n",
       "       [0.        , 1.        , 0.16932907, 0.37610103, 0.23866856,\n",
       "        0.19047619, 0.56449275],\n",
       "       [0.        , 0.66459627, 0.15207668, 0.48546066, 0.22096317,\n",
       "        0.20714286, 0.53101449],\n",
       "       [0.        , 0.58385093, 0.06389776, 0.37198289, 0.23866856,\n",
       "        0.18809524, 0.42028986],\n",
       "       [0.        , 0.50621118, 0.06389776, 0.25621726, 0.32719547,\n",
       "        0.2047619 , 0.36231884],\n",
       "       [0.        , 0.41304348, 0.0913738 , 0.22693267, 0.34490085,\n",
       "        0.23809524, 0.47826087],\n",
       "       [0.        , 0.52173913, 0.06325879, 0.32736965, 0.2917847 ,\n",
       "        0.16190476, 0.71014493],\n",
       "       [0.        , 0.81677019, 0.04153355, 0.26125054, 0.32719547,\n",
       "        0.12857143, 0.42028986],\n",
       "       [0.        , 0.65838509, 0.        , 0.27017319, 0.20325779,\n",
       "        0.06666667, 0.44927536],\n",
       "       [0.        , 0.69875776, 0.16932907, 0.26536869, 0.15014164,\n",
       "        0.07142857, 0.44927536],\n",
       "       [0.        , 0.48330435, 0.10543131, 0.2587339 , 0.16784703,\n",
       "        0.03333333, 0.33333333],\n",
       "       [0.        , 0.48330435, 0.23322684, 0.36260267, 0.13243626,\n",
       "        0.19047619, 0.33333333],\n",
       "       [0.        , 0.48330435, 0.16932907, 0.41316434, 0.23866856,\n",
       "        0.19047619, 0.24637681],\n",
       "       [0.        , 0.70496894, 0.16932907, 0.33240294, 0.23866856,\n",
       "        0.31190476, 0.47826087],\n",
       "       [0.        , 0.63354037, 1.        , 0.29533963, 0.16784703,\n",
       "        0.13571429, 0.62318841],\n",
       "       [0.        , 0.8136646 , 0.55271565, 0.51794825, 0.34490085,\n",
       "        0.12380952, 0.68115942],\n",
       "       [0.        , 0.69565217, 0.16932907, 0.34155437, 0.34490085,\n",
       "        0.83809524, 0.66376812],\n",
       "       [0.        , 0.62732919, 0.10543131, 0.29739871, 0.25637394,\n",
       "        0.11904762, 0.54927536],\n",
       "       [0.        , 0.53416149, 0.10543131, 0.30220321, 0.25637394,\n",
       "        0.16190476, 0.42753623],\n",
       "       [0.        , 0.88198758, 0.10543131, 0.36740717, 0.30949008,\n",
       "        0.18333333, 0.51884058],\n",
       "       [0.        , 0.47826087, 0.10543131, 0.26582626, 0.25637394,\n",
       "        0.15238095, 0.45797101],\n",
       "       [0.        , 0.54968944, 0.10543131, 0.34727402, 0.16784703,\n",
       "        0.23809524, 0.60869565],\n",
       "       [0.        , 0.7173913 , 0.16932907, 0.96522455, 0.13243626,\n",
       "        0.14047619, 0.62318841],\n",
       "       [0.        , 0.59937888, 0.16932907, 0.02056785, 0.30949008,\n",
       "        0.23809524, 1.        ],\n",
       "       [0.        , 0.59006211, 0.04153355, 0.40881741, 0.25637394,\n",
       "        0.25238095, 0.47826087],\n",
       "       [0.        , 0.41304348, 0.23322684, 0.45594729, 0.20325779,\n",
       "        0.18571429, 0.62318841],\n",
       "       [0.        , 0.48757764, 0.23322684, 0.46303965, 0.41572238,\n",
       "        0.28571429, 0.56521739],\n",
       "       [0.        , 0.5       , 0.23322684, 0.36283145, 0.36260623,\n",
       "        0.22380952, 0.42028986],\n",
       "       [0.        , 0.40062112, 0.16932907, 0.2909927 , 0.27407932,\n",
       "        0.22380952, 0.24637681],\n",
       "       [0.        , 0.5310559 , 0.10543131, 0.23814317, 0.30949008,\n",
       "        0.27142857, 0.47826087],\n",
       "       [0.        , 0.58074534, 0.10543131, 0.30540621, 0.36260623,\n",
       "        0.16190476, 0.53623188],\n",
       "       [0.        , 0.47826087, 0.23322684, 0.36580567, 0.30949008,\n",
       "        0.22619048, 0.42028986],\n",
       "       [0.        , 0.54347826, 0.23322684, 0.38502368, 0.16784703,\n",
       "        0.13095238, 0.62318841],\n",
       "       [0.        , 0.42236025, 0.16932907, 0.5881855 , 0.16784703,\n",
       "        0.22857143, 0.42028986],\n",
       "       [0.        , 0.50931677, 0.23322684, 0.48088494, 0.06161473,\n",
       "        0.23571429, 0.79710145],\n",
       "       [0.        , 0.55900621, 0.16932907, 0.29030634, 0.20325779,\n",
       "        0.28333333, 0.53623188],\n",
       "       [0.        , 0.48322981, 0.23322684, 0.78722917, 0.25637394,\n",
       "        0.37380952, 0.85507246],\n",
       "       [0.        , 0.52795031, 0.04153355, 0.49026516, 0.32719547,\n",
       "        0.2952381 , 0.56521739],\n",
       "       [0.        , 0.54347826, 0.16932907, 0.3362923 , 0.27407932,\n",
       "        0.19047619, 0.97101449],\n",
       "       [0.        , 0.55900621, 0.16932907, 0.26788533, 0.2917847 ,\n",
       "        0.16904762, 0.53623188],\n",
       "       [0.        , 0.45652174, 0.10543131, 0.14388341, 0.27407932,\n",
       "        0.03809524, 0.24637681],\n",
       "       [0.        , 0.48757764, 0.16932907, 0.17568464, 0.32719547,\n",
       "        0.12619048, 0.1884058 ],\n",
       "       [0.        , 0.29192547, 0.16932907, 0.19650415, 0.34490085,\n",
       "        0.25238095, 0.62318841],\n",
       "       [0.        , 0.72670807, 0.16932907, 0.15326363, 0.23866856,\n",
       "        0.51904762, 0.65217391],\n",
       "       [0.        , 0.44720497, 0.10543131, 0.182777  , 0.27407932,\n",
       "        0.2547619 , 0.42028986],\n",
       "       [0.        , 0.36645963, 0.16932907, 0.26811412, 0.18555241,\n",
       "        0.15714286, 0.71014493],\n",
       "       [0.        , 0.51242236, 0.55271565, 0.19238601, 0.25637394,\n",
       "        0.13809524, 0.50724638],\n",
       "       [0.        , 0.58695652, 0.23322684, 0.22899174, 0.18555241,\n",
       "        0.08095238, 0.24637681],\n",
       "       [0.        , 0.4378882 , 0.16932907, 0.35505274, 0.20325779,\n",
       "        0.17142857, 0.65217391],\n",
       "       [0.        , 0.55590062, 0.16932907, 0.16676199, 0.34490085,\n",
       "        0.1952381 , 0.88405797],\n",
       "       [0.        , 0.41614907, 0.2971246 , 0.14525613, 0.30949008,\n",
       "        0.4       , 0.53623188],\n",
       "       [0.        , 0.5310559 , 0.2971246 , 0.1779725 , 0.23866856,\n",
       "        0.0952381 , 0.42028986],\n",
       "       [0.        , 0.60559006, 0.1884984 , 0.14502734, 0.23866856,\n",
       "        0.3047619 , 0.36231884],\n",
       "       [0.        , 0.36645963, 0.0658147 , 0.14502734, 0.2917847 ,\n",
       "        0.19047619, 0.33333333],\n",
       "       [0.        , 0.44099379, 0.08115016, 0.19032693, 0.38031161,\n",
       "        0.60714286, 0.44927536],\n",
       "       [0.        , 0.45341615, 0.10415335, 0.19467387, 0.53966006,\n",
       "        0.63809524, 0.50724638],\n",
       "       [0.        , 0.72360248, 0.1341853 , 0.19924958, 0.76983003,\n",
       "        0.64285714, 0.88405797],\n",
       "       [0.        , 0.37267081, 0.18338658, 0.20954494, 0.87606232,\n",
       "        0.175     , 0.47826087],\n",
       "       [0.        , 0.49378882, 0.24664537, 0.22464481, 0.94688385,\n",
       "        0.37857143, 0.53623188],\n",
       "       [0.        , 0.62111801, 0.34696486, 0.22716145, 0.50424929,\n",
       "        0.4047619 , 0.60869565],\n",
       "       [0.        , 0.80745342, 0.18721542, 0.33606351, 0.22096317,\n",
       "        0.28095238, 0.71014493],\n",
       "       [0.        , 0.58695652, 0.54632588, 0.35939967, 0.62818697,\n",
       "        0.42857143, 0.47826087],\n",
       "       [0.        , 0.41304348, 0.35399361, 0.40515683, 0.76983003,\n",
       "        0.66666667, 0.95652174],\n",
       "       [0.        , 0.        , 0.47348243, 0.57239928, 1.        ,\n",
       "        1.        , 0.15942029],\n",
       "       [0.        , 0.48322981, 0.21789137, 0.79111853, 0.76983003,\n",
       "        0.69047619, 0.        ],\n",
       "       [0.        , 0.23602484, 0.51629393, 1.        , 1.        ,\n",
       "        1.        , 0.15942029],\n",
       "       [0.        , 0.59006211, 0.09392971, 0.18323457, 0.36260623,\n",
       "        0.19047619, 0.46376812],\n",
       "       [0.        , 0.44099379, 0.14888179, 0.30655014, 0.34490085,\n",
       "        0.19047619, 0.51529665],\n",
       "       [0.        , 0.44099379, 0.09329073, 0.30471985, 0.32719547,\n",
       "        0.25714286, 0.97101449],\n",
       "       [0.        , 0.38509317, 0.25878594, 0.23905832, 0.13243626,\n",
       "        0.37857143, 1.        ],\n",
       "       [0.        , 0.16149068, 0.16932907, 0.10933675, 0.18555241,\n",
       "        0.25810082, 0.13043478],\n",
       "       [0.        , 0.41614907, 0.1942492 , 0.26079297, 0.20325779,\n",
       "        0.16190476, 0.53623188],\n",
       "       [0.        , 0.38509317, 0.25878594, 0.30403767, 0.        ,\n",
       "        0.37857143, 0.51529665],\n",
       "       [0.        , 0.34782609, 0.39936102, 0.35139216, 0.27407932,\n",
       "        0.36904762, 0.85507246],\n",
       "       [0.        , 0.51552795, 0.22044728, 0.38845547, 0.23866856,\n",
       "        0.1952381 , 0.82608696],\n",
       "       [0.        , 0.72981366, 0.19488818, 0.31066828, 0.34490085,\n",
       "        0.26666667, 0.79710145],\n",
       "       [0.        , 0.48322981, 0.11821086, 0.35894209, 0.22096317,\n",
       "        0.19047619, 0.60347826],\n",
       "       [0.        , 0.58074534, 0.06070288, 0.34544373, 0.32719547,\n",
       "        0.15714286, 0.5942029 ],\n",
       "       [0.        , 0.69565217, 0.15654952, 0.41316434, 0.32719547,\n",
       "        0.12380952, 0.50724638],\n",
       "       [0.        , 0.50931677, 0.36102236, 0.34567252, 0.32719547,\n",
       "        0.17142857, 0.24637681],\n",
       "       [0.        , 0.41304348, 0.15015974, 0.26239447, 0.2917847 ,\n",
       "        0.15714286, 0.65217391],\n",
       "       [0.        , 0.4068323 , 0.16932907, 0.34887552, 0.20325779,\n",
       "        0.13809524, 0.79710145],\n",
       "       [0.        , 0.39130435, 0.18210863, 0.37198289, 0.16784703,\n",
       "        0.14761905, 0.85507246],\n",
       "       [0.        , 0.48136646, 0.23322684, 0.42208698, 0.20325779,\n",
       "        0.48571429, 0.76811594],\n",
       "       [0.        , 0.52795031, 0.09265176, 0.37678739, 0.23866856,\n",
       "        0.19047619, 0.53623188],\n",
       "       [0.        , 0.57142857, 0.30351438, 0.24729461, 0.2917847 ,\n",
       "        0.11428571, 0.79710145],\n",
       "       [0.        , 0.57142857, 0.15654952, 0.33652108, 0.23866856,\n",
       "        0.2       , 0.82608696],\n",
       "       [0.        , 0.44409938, 0.14760383, 0.25507333, 0.20325779,\n",
       "        0.3047619 , 0.52173913],\n",
       "       [0.        , 0.45031056, 0.1341853 , 0.28801849, 0.30949008,\n",
       "        0.29761905, 0.31884058],\n",
       "       [0.        , 0.45341615, 0.16932907, 0.25004004, 0.18555241,\n",
       "        0.2452381 , 0.42028986],\n",
       "       [0.        , 0.44099379, 0.12651757, 0.22372967, 0.2917847 ,\n",
       "        0.28095238, 0.53623188],\n",
       "       [0.        , 0.45031056, 0.16805112, 0.2328811 , 0.27407932,\n",
       "        0.27619048, 0.1884058 ],\n",
       "       [0.        , 0.51552795, 0.16932907, 0.27314741, 0.25637394,\n",
       "        0.30714286, 0.39130435],\n",
       "       [0.        , 0.48136646, 0.11948882, 0.22716145, 0.20325779,\n",
       "        0.23571429, 0.13043478],\n",
       "       [0.        , 0.44099379, 0.10543131, 0.23173717, 0.23866856,\n",
       "        0.20952381, 0.10144928],\n",
       "       [0.        , 0.50621118, 0.16741214, 0.22372967, 0.23866856,\n",
       "        0.30952381, 0.1884058 ],\n",
       "       [0.        , 0.48136646, 0.11821086, 0.27772312, 0.2917847 ,\n",
       "        0.28809524, 0.55072464],\n",
       "       [0.        , 0.45652174, 0.16932907, 0.25530211, 0.25637394,\n",
       "        0.27380952, 0.27536232],\n",
       "       [0.        , 0.45341615, 0.1686901 , 0.20885859, 0.18555241,\n",
       "        0.21904762, 0.37681159],\n",
       "       [0.        , 0.47826087, 0.10607029, 0.25461575, 0.30949008,\n",
       "        0.27142857, 0.11594203],\n",
       "       [0.        , 0.46583851, 0.10543131, 0.20405408, 0.22096317,\n",
       "        0.28571429, 0.31884058],\n",
       "       [0.        , 0.45031056, 0.16932907, 0.21457823, 0.30949008,\n",
       "        0.22857143, 0.50724638],\n",
       "       [0.        , 0.41925466, 0.06070288, 0.23173717, 0.20325779,\n",
       "        0.19285714, 0.39130435],\n",
       "       [0.        , 0.50931677, 0.04153355, 0.30403767, 0.20325779,\n",
       "        0.21428571, 0.24637681]])"
      ]
     },
     "execution_count": 149,
     "metadata": {},
     "output_type": "execute_result"
    }
   ],
   "source": [
    "X_scaled"
   ]
  },
  {
   "cell_type": "code",
   "execution_count": 150,
   "id": "68cb253d",
   "metadata": {},
   "outputs": [],
   "source": [
    "y = y.values.reshape(-1,1)"
   ]
  },
  {
   "cell_type": "code",
   "execution_count": 151,
   "id": "9e5f1087",
   "metadata": {},
   "outputs": [],
   "source": [
    "Y_scaled = scaler.fit_transform(y)"
   ]
  },
  {
   "cell_type": "code",
   "execution_count": 152,
   "id": "2f5524e8",
   "metadata": {},
   "outputs": [
    {
     "data": {
      "text/plain": [
       "array([[0.        , 0.50621118, 0.18721542, 0.30403767, 0.06161473,\n",
       "        0.25810082, 0.51529665],\n",
       "       [0.        , 0.51242236, 0.16932907, 0.2523279 , 0.27407932,\n",
       "        0.1952381 , 0.42753623],\n",
       "       [0.        , 0.47826087, 0.18721542, 0.30403767, 0.32719547,\n",
       "        0.25810082, 0.51529665],\n",
       "       [0.        , 0.4378882 , 0.18721542, 0.30403767, 0.34490085,\n",
       "        0.25810082, 0.51529665],\n",
       "       [0.        , 0.43167702, 0.18721542, 0.30403767, 0.16784703,\n",
       "        0.25810082, 0.51529665],\n",
       "       [0.        , 0.48330435, 0.23322684, 0.02537235, 0.16784703,\n",
       "        0.18571429, 0.41304348],\n",
       "       [0.        , 0.48330435, 0.22811502, 0.10796403, 0.2917847 ,\n",
       "        0.18571429, 0.47826087],\n",
       "       [0.        , 0.43478261, 0.16932907, 0.03292228, 0.23866856,\n",
       "        0.18095238, 0.60347826],\n",
       "       [0.        , 0.48330435, 0.18721542, 0.03063442, 0.18555241,\n",
       "        0.16666667, 0.60347826],\n",
       "       [0.        , 0.43167702, 0.10543131, 0.06678258, 0.36260623,\n",
       "        0.28095238, 0.34      ],\n",
       "       [0.        , 0.48330435, 0.10543131, 0.        , 0.30949008,\n",
       "        0.        , 0.34      ],\n",
       "       [0.        , 0.44099379, 0.10543131, 0.00322588, 0.32719547,\n",
       "        0.14285714, 0.42782609],\n",
       "       [0.        , 0.52795031, 0.04153355, 0.19009815, 0.2917847 ,\n",
       "        0.25810082, 0.42782609],\n",
       "       [0.        , 0.48330435, 0.10543131, 0.30403767, 0.32719547,\n",
       "        0.22857143, 0.53623188],\n",
       "       [0.        , 0.45962733, 0.16932907, 0.21526459, 0.30949008,\n",
       "        0.        , 0.53623188],\n",
       "       [0.        , 0.48330435, 0.18721542, 0.30403767, 0.2917847 ,\n",
       "        0.20952381, 0.5942029 ],\n",
       "       [0.        , 0.50621118, 0.16932907, 0.31455764, 0.18555241,\n",
       "        0.30952381, 0.10144928],\n",
       "       [0.        , 0.50310559, 0.16932907, 0.34063923, 0.23866856,\n",
       "        0.29047619, 0.56521739],\n",
       "       [0.        , 0.42857143, 0.23322684, 0.29648356, 0.25637394,\n",
       "        0.28571429, 0.68115942],\n",
       "       [0.        , 0.47204969, 0.16932907, 0.35711181, 0.34490085,\n",
       "        0.22380952, 0.64217391],\n",
       "       [0.        , 0.39130435, 0.16932907, 0.44199135, 0.30949008,\n",
       "        0.33571429, 0.71014493],\n",
       "       [0.        , 0.54347826, 0.23322684, 0.52069368, 0.30949008,\n",
       "        0.33333333, 0.75188406],\n",
       "       [0.        , 0.53416149, 0.10543131, 0.28801849, 0.2917847 ,\n",
       "        0.85714286, 0.36231884],\n",
       "       [0.        , 0.51863354, 0.10543131, 0.23425382, 0.34490085,\n",
       "        0.2547619 , 0.42028986],\n",
       "       [0.        , 0.58385093, 0.08945687, 0.34155437, 0.25637394,\n",
       "        0.15714286, 0.76811594],\n",
       "       [0.        , 0.52484472, 0.10543131, 0.29145027, 0.32719547,\n",
       "        0.03333333, 0.50724638],\n",
       "       [0.        , 0.77639752, 0.15782748, 0.21755245, 0.27407932,\n",
       "        0.08571429, 0.5942029 ],\n",
       "       [0.        , 0.69875776, 0.46198083, 0.34361344, 0.18555241,\n",
       "        0.16190476, 0.71014493],\n",
       "       [0.        , 0.83229814, 0.42492013, 0.40264019, 0.15014164,\n",
       "        0.31904762, 0.25666667],\n",
       "       [0.        , 0.60559006, 0.35335463, 0.7270585 , 0.16784703,\n",
       "        0.36190476, 0.6157971 ],\n",
       "       [0.        , 0.87267081, 0.21469649, 0.29877142, 0.23866856,\n",
       "        0.25714286, 0.48753623],\n",
       "       [0.        , 1.        , 0.16932907, 0.37610103, 0.23866856,\n",
       "        0.19047619, 0.56449275],\n",
       "       [0.        , 0.66459627, 0.15207668, 0.48546066, 0.22096317,\n",
       "        0.20714286, 0.53101449],\n",
       "       [0.        , 0.58385093, 0.06389776, 0.37198289, 0.23866856,\n",
       "        0.18809524, 0.42028986],\n",
       "       [0.        , 0.50621118, 0.06389776, 0.25621726, 0.32719547,\n",
       "        0.2047619 , 0.36231884],\n",
       "       [0.        , 0.41304348, 0.0913738 , 0.22693267, 0.34490085,\n",
       "        0.23809524, 0.47826087],\n",
       "       [0.        , 0.52173913, 0.06325879, 0.32736965, 0.2917847 ,\n",
       "        0.16190476, 0.71014493],\n",
       "       [0.        , 0.81677019, 0.04153355, 0.26125054, 0.32719547,\n",
       "        0.12857143, 0.42028986],\n",
       "       [0.        , 0.65838509, 0.        , 0.27017319, 0.20325779,\n",
       "        0.06666667, 0.44927536],\n",
       "       [0.        , 0.69875776, 0.16932907, 0.26536869, 0.15014164,\n",
       "        0.07142857, 0.44927536],\n",
       "       [0.        , 0.48330435, 0.10543131, 0.2587339 , 0.16784703,\n",
       "        0.03333333, 0.33333333],\n",
       "       [0.        , 0.48330435, 0.23322684, 0.36260267, 0.13243626,\n",
       "        0.19047619, 0.33333333],\n",
       "       [0.        , 0.48330435, 0.16932907, 0.41316434, 0.23866856,\n",
       "        0.19047619, 0.24637681],\n",
       "       [0.        , 0.70496894, 0.16932907, 0.33240294, 0.23866856,\n",
       "        0.31190476, 0.47826087],\n",
       "       [0.        , 0.63354037, 1.        , 0.29533963, 0.16784703,\n",
       "        0.13571429, 0.62318841],\n",
       "       [0.        , 0.8136646 , 0.55271565, 0.51794825, 0.34490085,\n",
       "        0.12380952, 0.68115942],\n",
       "       [0.        , 0.69565217, 0.16932907, 0.34155437, 0.34490085,\n",
       "        0.83809524, 0.66376812],\n",
       "       [0.        , 0.62732919, 0.10543131, 0.29739871, 0.25637394,\n",
       "        0.11904762, 0.54927536],\n",
       "       [0.        , 0.53416149, 0.10543131, 0.30220321, 0.25637394,\n",
       "        0.16190476, 0.42753623],\n",
       "       [0.        , 0.88198758, 0.10543131, 0.36740717, 0.30949008,\n",
       "        0.18333333, 0.51884058],\n",
       "       [0.        , 0.47826087, 0.10543131, 0.26582626, 0.25637394,\n",
       "        0.15238095, 0.45797101],\n",
       "       [0.        , 0.54968944, 0.10543131, 0.34727402, 0.16784703,\n",
       "        0.23809524, 0.60869565],\n",
       "       [0.        , 0.7173913 , 0.16932907, 0.96522455, 0.13243626,\n",
       "        0.14047619, 0.62318841],\n",
       "       [0.        , 0.59937888, 0.16932907, 0.02056785, 0.30949008,\n",
       "        0.23809524, 1.        ],\n",
       "       [0.        , 0.59006211, 0.04153355, 0.40881741, 0.25637394,\n",
       "        0.25238095, 0.47826087],\n",
       "       [0.        , 0.41304348, 0.23322684, 0.45594729, 0.20325779,\n",
       "        0.18571429, 0.62318841],\n",
       "       [0.        , 0.48757764, 0.23322684, 0.46303965, 0.41572238,\n",
       "        0.28571429, 0.56521739],\n",
       "       [0.        , 0.5       , 0.23322684, 0.36283145, 0.36260623,\n",
       "        0.22380952, 0.42028986],\n",
       "       [0.        , 0.40062112, 0.16932907, 0.2909927 , 0.27407932,\n",
       "        0.22380952, 0.24637681],\n",
       "       [0.        , 0.5310559 , 0.10543131, 0.23814317, 0.30949008,\n",
       "        0.27142857, 0.47826087],\n",
       "       [0.        , 0.58074534, 0.10543131, 0.30540621, 0.36260623,\n",
       "        0.16190476, 0.53623188],\n",
       "       [0.        , 0.47826087, 0.23322684, 0.36580567, 0.30949008,\n",
       "        0.22619048, 0.42028986],\n",
       "       [0.        , 0.54347826, 0.23322684, 0.38502368, 0.16784703,\n",
       "        0.13095238, 0.62318841],\n",
       "       [0.        , 0.42236025, 0.16932907, 0.5881855 , 0.16784703,\n",
       "        0.22857143, 0.42028986],\n",
       "       [0.        , 0.50931677, 0.23322684, 0.48088494, 0.06161473,\n",
       "        0.23571429, 0.79710145],\n",
       "       [0.        , 0.55900621, 0.16932907, 0.29030634, 0.20325779,\n",
       "        0.28333333, 0.53623188],\n",
       "       [0.        , 0.48322981, 0.23322684, 0.78722917, 0.25637394,\n",
       "        0.37380952, 0.85507246],\n",
       "       [0.        , 0.52795031, 0.04153355, 0.49026516, 0.32719547,\n",
       "        0.2952381 , 0.56521739],\n",
       "       [0.        , 0.54347826, 0.16932907, 0.3362923 , 0.27407932,\n",
       "        0.19047619, 0.97101449],\n",
       "       [0.        , 0.55900621, 0.16932907, 0.26788533, 0.2917847 ,\n",
       "        0.16904762, 0.53623188],\n",
       "       [0.        , 0.45652174, 0.10543131, 0.14388341, 0.27407932,\n",
       "        0.03809524, 0.24637681],\n",
       "       [0.        , 0.48757764, 0.16932907, 0.17568464, 0.32719547,\n",
       "        0.12619048, 0.1884058 ],\n",
       "       [0.        , 0.29192547, 0.16932907, 0.19650415, 0.34490085,\n",
       "        0.25238095, 0.62318841],\n",
       "       [0.        , 0.72670807, 0.16932907, 0.15326363, 0.23866856,\n",
       "        0.51904762, 0.65217391],\n",
       "       [0.        , 0.44720497, 0.10543131, 0.182777  , 0.27407932,\n",
       "        0.2547619 , 0.42028986],\n",
       "       [0.        , 0.36645963, 0.16932907, 0.26811412, 0.18555241,\n",
       "        0.15714286, 0.71014493],\n",
       "       [0.        , 0.51242236, 0.55271565, 0.19238601, 0.25637394,\n",
       "        0.13809524, 0.50724638],\n",
       "       [0.        , 0.58695652, 0.23322684, 0.22899174, 0.18555241,\n",
       "        0.08095238, 0.24637681],\n",
       "       [0.        , 0.4378882 , 0.16932907, 0.35505274, 0.20325779,\n",
       "        0.17142857, 0.65217391],\n",
       "       [0.        , 0.55590062, 0.16932907, 0.16676199, 0.34490085,\n",
       "        0.1952381 , 0.88405797],\n",
       "       [0.        , 0.41614907, 0.2971246 , 0.14525613, 0.30949008,\n",
       "        0.4       , 0.53623188],\n",
       "       [0.        , 0.5310559 , 0.2971246 , 0.1779725 , 0.23866856,\n",
       "        0.0952381 , 0.42028986],\n",
       "       [0.        , 0.60559006, 0.1884984 , 0.14502734, 0.23866856,\n",
       "        0.3047619 , 0.36231884],\n",
       "       [0.        , 0.36645963, 0.0658147 , 0.14502734, 0.2917847 ,\n",
       "        0.19047619, 0.33333333],\n",
       "       [0.        , 0.44099379, 0.08115016, 0.19032693, 0.38031161,\n",
       "        0.60714286, 0.44927536],\n",
       "       [0.        , 0.45341615, 0.10415335, 0.19467387, 0.53966006,\n",
       "        0.63809524, 0.50724638],\n",
       "       [0.        , 0.72360248, 0.1341853 , 0.19924958, 0.76983003,\n",
       "        0.64285714, 0.88405797],\n",
       "       [0.        , 0.37267081, 0.18338658, 0.20954494, 0.87606232,\n",
       "        0.175     , 0.47826087],\n",
       "       [0.        , 0.49378882, 0.24664537, 0.22464481, 0.94688385,\n",
       "        0.37857143, 0.53623188],\n",
       "       [0.        , 0.62111801, 0.34696486, 0.22716145, 0.50424929,\n",
       "        0.4047619 , 0.60869565],\n",
       "       [0.        , 0.80745342, 0.18721542, 0.33606351, 0.22096317,\n",
       "        0.28095238, 0.71014493],\n",
       "       [0.        , 0.58695652, 0.54632588, 0.35939967, 0.62818697,\n",
       "        0.42857143, 0.47826087],\n",
       "       [0.        , 0.41304348, 0.35399361, 0.40515683, 0.76983003,\n",
       "        0.66666667, 0.95652174],\n",
       "       [0.        , 0.        , 0.47348243, 0.57239928, 1.        ,\n",
       "        1.        , 0.15942029],\n",
       "       [0.        , 0.48322981, 0.21789137, 0.79111853, 0.76983003,\n",
       "        0.69047619, 0.        ],\n",
       "       [0.        , 0.23602484, 0.51629393, 1.        , 1.        ,\n",
       "        1.        , 0.15942029],\n",
       "       [0.        , 0.59006211, 0.09392971, 0.18323457, 0.36260623,\n",
       "        0.19047619, 0.46376812],\n",
       "       [0.        , 0.44099379, 0.14888179, 0.30655014, 0.34490085,\n",
       "        0.19047619, 0.51529665],\n",
       "       [0.        , 0.44099379, 0.09329073, 0.30471985, 0.32719547,\n",
       "        0.25714286, 0.97101449],\n",
       "       [0.        , 0.38509317, 0.25878594, 0.23905832, 0.13243626,\n",
       "        0.37857143, 1.        ],\n",
       "       [0.        , 0.16149068, 0.16932907, 0.10933675, 0.18555241,\n",
       "        0.25810082, 0.13043478],\n",
       "       [0.        , 0.41614907, 0.1942492 , 0.26079297, 0.20325779,\n",
       "        0.16190476, 0.53623188],\n",
       "       [0.        , 0.38509317, 0.25878594, 0.30403767, 0.        ,\n",
       "        0.37857143, 0.51529665],\n",
       "       [0.        , 0.34782609, 0.39936102, 0.35139216, 0.27407932,\n",
       "        0.36904762, 0.85507246],\n",
       "       [0.        , 0.51552795, 0.22044728, 0.38845547, 0.23866856,\n",
       "        0.1952381 , 0.82608696],\n",
       "       [0.        , 0.72981366, 0.19488818, 0.31066828, 0.34490085,\n",
       "        0.26666667, 0.79710145],\n",
       "       [0.        , 0.48322981, 0.11821086, 0.35894209, 0.22096317,\n",
       "        0.19047619, 0.60347826],\n",
       "       [0.        , 0.58074534, 0.06070288, 0.34544373, 0.32719547,\n",
       "        0.15714286, 0.5942029 ],\n",
       "       [0.        , 0.69565217, 0.15654952, 0.41316434, 0.32719547,\n",
       "        0.12380952, 0.50724638],\n",
       "       [0.        , 0.50931677, 0.36102236, 0.34567252, 0.32719547,\n",
       "        0.17142857, 0.24637681],\n",
       "       [0.        , 0.41304348, 0.15015974, 0.26239447, 0.2917847 ,\n",
       "        0.15714286, 0.65217391],\n",
       "       [0.        , 0.4068323 , 0.16932907, 0.34887552, 0.20325779,\n",
       "        0.13809524, 0.79710145],\n",
       "       [0.        , 0.39130435, 0.18210863, 0.37198289, 0.16784703,\n",
       "        0.14761905, 0.85507246],\n",
       "       [0.        , 0.48136646, 0.23322684, 0.42208698, 0.20325779,\n",
       "        0.48571429, 0.76811594],\n",
       "       [0.        , 0.52795031, 0.09265176, 0.37678739, 0.23866856,\n",
       "        0.19047619, 0.53623188],\n",
       "       [0.        , 0.57142857, 0.30351438, 0.24729461, 0.2917847 ,\n",
       "        0.11428571, 0.79710145],\n",
       "       [0.        , 0.57142857, 0.15654952, 0.33652108, 0.23866856,\n",
       "        0.2       , 0.82608696],\n",
       "       [0.        , 0.44409938, 0.14760383, 0.25507333, 0.20325779,\n",
       "        0.3047619 , 0.52173913],\n",
       "       [0.        , 0.45031056, 0.1341853 , 0.28801849, 0.30949008,\n",
       "        0.29761905, 0.31884058],\n",
       "       [0.        , 0.45341615, 0.16932907, 0.25004004, 0.18555241,\n",
       "        0.2452381 , 0.42028986],\n",
       "       [0.        , 0.44099379, 0.12651757, 0.22372967, 0.2917847 ,\n",
       "        0.28095238, 0.53623188],\n",
       "       [0.        , 0.45031056, 0.16805112, 0.2328811 , 0.27407932,\n",
       "        0.27619048, 0.1884058 ],\n",
       "       [0.        , 0.51552795, 0.16932907, 0.27314741, 0.25637394,\n",
       "        0.30714286, 0.39130435],\n",
       "       [0.        , 0.48136646, 0.11948882, 0.22716145, 0.20325779,\n",
       "        0.23571429, 0.13043478],\n",
       "       [0.        , 0.44099379, 0.10543131, 0.23173717, 0.23866856,\n",
       "        0.20952381, 0.10144928],\n",
       "       [0.        , 0.50621118, 0.16741214, 0.22372967, 0.23866856,\n",
       "        0.30952381, 0.1884058 ],\n",
       "       [0.        , 0.48136646, 0.11821086, 0.27772312, 0.2917847 ,\n",
       "        0.28809524, 0.55072464],\n",
       "       [0.        , 0.45652174, 0.16932907, 0.25530211, 0.25637394,\n",
       "        0.27380952, 0.27536232],\n",
       "       [0.        , 0.45341615, 0.1686901 , 0.20885859, 0.18555241,\n",
       "        0.21904762, 0.37681159],\n",
       "       [0.        , 0.47826087, 0.10607029, 0.25461575, 0.30949008,\n",
       "        0.27142857, 0.11594203],\n",
       "       [0.        , 0.46583851, 0.10543131, 0.20405408, 0.22096317,\n",
       "        0.28571429, 0.31884058],\n",
       "       [0.        , 0.45031056, 0.16932907, 0.21457823, 0.30949008,\n",
       "        0.22857143, 0.50724638],\n",
       "       [0.        , 0.41925466, 0.06070288, 0.23173717, 0.20325779,\n",
       "        0.19285714, 0.39130435],\n",
       "       [0.        , 0.50931677, 0.04153355, 0.30403767, 0.20325779,\n",
       "        0.21428571, 0.24637681]])"
      ]
     },
     "execution_count": 152,
     "metadata": {},
     "output_type": "execute_result"
    }
   ],
   "source": [
    "X_scaled"
   ]
  },
  {
   "cell_type": "code",
   "execution_count": 153,
   "id": "c825a4d1",
   "metadata": {},
   "outputs": [
    {
     "data": {
      "text/plain": [
       "array([[0.49333333],\n",
       "       [0.53333333],\n",
       "       [0.53333333],\n",
       "       [0.53333333],\n",
       "       [0.54666667],\n",
       "       [0.62666667],\n",
       "       [0.61333333],\n",
       "       [0.58666667],\n",
       "       [0.48      ],\n",
       "       [0.44      ],\n",
       "       [0.36      ],\n",
       "       [0.57333333],\n",
       "       [0.37333333],\n",
       "       [0.49333333],\n",
       "       [0.48      ],\n",
       "       [0.60177444],\n",
       "       [0.6       ],\n",
       "       [0.49333333],\n",
       "       [0.41333333],\n",
       "       [0.46666667],\n",
       "       [0.4       ],\n",
       "       [0.36      ],\n",
       "       [0.49333333],\n",
       "       [0.46666667],\n",
       "       [0.44      ],\n",
       "       [0.44      ],\n",
       "       [0.45333333],\n",
       "       [0.61333333],\n",
       "       [0.73333333],\n",
       "       [0.61333333],\n",
       "       [0.53333333],\n",
       "       [0.6       ],\n",
       "       [0.54666667],\n",
       "       [0.52      ],\n",
       "       [0.46666667],\n",
       "       [0.53333333],\n",
       "       [0.52      ],\n",
       "       [0.54666667],\n",
       "       [0.46666667],\n",
       "       [0.52      ],\n",
       "       [0.62666667],\n",
       "       [0.52      ],\n",
       "       [0.54666667],\n",
       "       [0.52      ],\n",
       "       [0.52      ],\n",
       "       [0.6       ],\n",
       "       [0.46666667],\n",
       "       [0.52      ],\n",
       "       [0.48      ],\n",
       "       [0.52      ],\n",
       "       [0.52      ],\n",
       "       [0.46666667],\n",
       "       [0.52      ],\n",
       "       [0.6       ],\n",
       "       [0.74666667],\n",
       "       [0.65333333],\n",
       "       [0.33333333],\n",
       "       [0.37333333],\n",
       "       [0.48      ],\n",
       "       [0.4       ],\n",
       "       [0.29333333],\n",
       "       [0.4       ],\n",
       "       [0.4       ],\n",
       "       [0.42666667],\n",
       "       [0.53333333],\n",
       "       [0.72      ],\n",
       "       [0.32      ],\n",
       "       [0.53333333],\n",
       "       [0.        ],\n",
       "       [0.2       ],\n",
       "       [0.38666667],\n",
       "       [0.50666667],\n",
       "       [0.37333333],\n",
       "       [0.28      ],\n",
       "       [0.26666667],\n",
       "       [0.42666667],\n",
       "       [0.62666667],\n",
       "       [0.42666667],\n",
       "       [0.38666667],\n",
       "       [0.60173333],\n",
       "       [0.57333333],\n",
       "       [0.48      ],\n",
       "       [0.46666667],\n",
       "       [0.49333333],\n",
       "       [0.612     ],\n",
       "       [0.62666667],\n",
       "       [0.63733333],\n",
       "       [0.86133333],\n",
       "       [0.96      ],\n",
       "       [1.        ],\n",
       "       [0.36266667],\n",
       "       [0.76266667],\n",
       "       [0.876     ],\n",
       "       [0.212     ],\n",
       "       [0.63866667],\n",
       "       [0.536     ],\n",
       "       [0.48      ],\n",
       "       [0.52      ],\n",
       "       [0.46666667],\n",
       "       [0.28      ],\n",
       "       [0.48      ],\n",
       "       [0.42666667],\n",
       "       [0.28      ],\n",
       "       [0.33333333],\n",
       "       [0.25333333],\n",
       "       [0.52      ],\n",
       "       [0.52      ],\n",
       "       [0.54666667],\n",
       "       [0.45333333],\n",
       "       [0.46666667],\n",
       "       [0.46666667],\n",
       "       [0.46666667],\n",
       "       [0.48      ],\n",
       "       [0.48      ],\n",
       "       [0.50666667],\n",
       "       [0.6       ],\n",
       "       [0.42666667],\n",
       "       [0.54666667],\n",
       "       [0.52      ],\n",
       "       [0.47333333],\n",
       "       [0.46666667],\n",
       "       [0.48266667],\n",
       "       [0.49466667],\n",
       "       [0.40666667],\n",
       "       [0.44      ],\n",
       "       [0.46666667],\n",
       "       [0.56      ],\n",
       "       [0.4       ],\n",
       "       [0.50666667],\n",
       "       [0.56      ],\n",
       "       [0.46666667],\n",
       "       [0.50666667],\n",
       "       [0.48      ],\n",
       "       [0.38666667]])"
      ]
     },
     "execution_count": 153,
     "metadata": {},
     "output_type": "execute_result"
    }
   ],
   "source": [
    "Y_scaled"
   ]
  },
  {
   "cell_type": "code",
   "execution_count": 154,
   "id": "d8bfad26",
   "metadata": {},
   "outputs": [],
   "source": [
    "from sklearn.model_selection import train_test_split\n",
    "X_train, X_test, y_train, y_test = train_test_split(X_scaled, Y_scaled, test_size= 0.20, random_state=5)"
   ]
  },
  {
   "cell_type": "code",
   "execution_count": 155,
   "id": "6895e973",
   "metadata": {},
   "outputs": [
    {
     "data": {
      "text/plain": [
       "(107, 7)"
      ]
     },
     "execution_count": 155,
     "metadata": {},
     "output_type": "execute_result"
    }
   ],
   "source": [
    "X_train.shape"
   ]
  },
  {
   "cell_type": "code",
   "execution_count": 156,
   "id": "c13e94c3",
   "metadata": {},
   "outputs": [
    {
     "data": {
      "text/plain": [
       "array([[0.53333333],\n",
       "       [0.46666667],\n",
       "       [0.46666667],\n",
       "       [0.36      ],\n",
       "       [0.96      ],\n",
       "       [0.36      ],\n",
       "       [0.29333333],\n",
       "       [0.46666667],\n",
       "       [0.38666667],\n",
       "       [0.48      ],\n",
       "       [0.52      ],\n",
       "       [0.876     ],\n",
       "       [0.52      ],\n",
       "       [0.33333333],\n",
       "       [0.44      ],\n",
       "       [0.46666667],\n",
       "       [0.2       ],\n",
       "       [0.536     ],\n",
       "       [0.4       ],\n",
       "       [0.48      ],\n",
       "       [0.42666667],\n",
       "       [0.54666667],\n",
       "       [0.49333333],\n",
       "       [0.4       ],\n",
       "       [0.48      ],\n",
       "       [0.60173333],\n",
       "       [0.61333333]])"
      ]
     },
     "execution_count": 156,
     "metadata": {},
     "output_type": "execute_result"
    }
   ],
   "source": [
    "y_test"
   ]
  },
  {
   "cell_type": "markdown",
   "id": "f85af1de",
   "metadata": {},
   "source": [
    "### Using Tensorflow ANN Deep NN Model"
   ]
  },
  {
   "cell_type": "code",
   "execution_count": 157,
   "id": "9320d00d",
   "metadata": {},
   "outputs": [],
   "source": [
    "import tensorflow.keras\n",
    "from keras.models import Sequential\n",
    "from keras.layers import Dense\n",
    "from sklearn.preprocessing import MinMaxScaler\n",
    "from keras.layers import BatchNormalization \n",
    "from tensorflow.keras.callbacks import EarlyStopping\n",
    "\n",
    "callback = EarlyStopping(\n",
    "    monitor=\"val_loss\",\n",
    "    min_delta=0,\n",
    "    patience=20,\n",
    "    verbose=0,\n",
    "    mode=\"auto\",\n",
    "    baseline=None,\n",
    "    restore_best_weights=False,\n",
    ")\n"
   ]
  },
  {
   "cell_type": "code",
   "execution_count": 257,
   "id": "f43d1191",
   "metadata": {},
   "outputs": [
    {
     "name": "stdout",
     "output_type": "stream",
     "text": [
      "Model: \"sequential_29\"\n",
      "_________________________________________________________________\n",
      " Layer (type)                Output Shape              Param #   \n",
      "=================================================================\n",
      " dense_290 (Dense)           (None, 100)               800       \n",
      "                                                                 \n",
      " dense_291 (Dense)           (None, 100)               10100     \n",
      "                                                                 \n",
      " dense_292 (Dense)           (None, 100)               10100     \n",
      "                                                                 \n",
      " dense_293 (Dense)           (None, 100)               10100     \n",
      "                                                                 \n",
      " dense_294 (Dense)           (None, 100)               10100     \n",
      "                                                                 \n",
      " dense_295 (Dense)           (None, 100)               10100     \n",
      "                                                                 \n",
      " dense_296 (Dense)           (None, 80)                8080      \n",
      "                                                                 \n",
      " dense_297 (Dense)           (None, 80)                6480      \n",
      "                                                                 \n",
      " dense_298 (Dense)           (None, 80)                6480      \n",
      "                                                                 \n",
      " dense_299 (Dense)           (None, 40)                3240      \n",
      "                                                                 \n",
      " dense_300 (Dense)           (None, 1)                 41        \n",
      "                                                                 \n",
      "=================================================================\n",
      "Total params: 75,621\n",
      "Trainable params: 75,621\n",
      "Non-trainable params: 0\n",
      "_________________________________________________________________\n"
     ]
    }
   ],
   "source": [
    "model = Sequential()\n",
    "model.add(Dense(100, input_dim=7, activation='relu'))\n",
    "\n",
    "model.add(Dense(100, activation='relu'))\n",
    "\n",
    "model.add(Dense(100, activation='relu'))\n",
    "\n",
    "model.add(Dense(100, activation='relu'))\n",
    "\n",
    "model.add(Dense(100, activation='relu'))\n",
    "\n",
    "model.add(Dense(100, activation='relu'))\n",
    "\n",
    "model.add(Dense(80, activation='relu'))\n",
    "\n",
    "model.add(Dense(80, activation='relu'))\n",
    "\n",
    "model.add(Dense(80, activation='relu'))\n",
    "\n",
    "model.add(Dense(40, activation='relu'))\n",
    "model.add(Dense(1, activation='linear'))\n",
    "\n",
    "model.summary()"
   ]
  },
  {
   "cell_type": "markdown",
   "id": "42d734dc",
   "metadata": {},
   "source": [
    "#### Calculate Model Loss as Mean_Squared_Error / MSE"
   ]
  },
  {
   "cell_type": "code",
   "execution_count": 258,
   "id": "6670f63e",
   "metadata": {},
   "outputs": [],
   "source": [
    "model.compile(loss='mean_squared_error', optimizer='adam')"
   ]
  },
  {
   "cell_type": "code",
   "execution_count": 259,
   "id": "6dc32826",
   "metadata": {},
   "outputs": [
    {
     "name": "stdout",
     "output_type": "stream",
     "text": [
      "Epoch 1/400\n",
      "4/4 [==============================] - 1s 60ms/step - loss: 0.2429 - val_loss: 0.1719\n",
      "Epoch 2/400\n",
      "4/4 [==============================] - 0s 15ms/step - loss: 0.1234 - val_loss: 0.0186\n",
      "Epoch 3/400\n",
      "4/4 [==============================] - 0s 19ms/step - loss: 0.0361 - val_loss: 0.0388\n",
      "Epoch 4/400\n",
      "4/4 [==============================] - 0s 17ms/step - loss: 0.0230 - val_loss: 0.0203\n",
      "Epoch 5/400\n",
      "4/4 [==============================] - 0s 13ms/step - loss: 0.0270 - val_loss: 0.0209\n",
      "Epoch 6/400\n",
      "4/4 [==============================] - 0s 13ms/step - loss: 0.0215 - val_loss: 0.0149\n",
      "Epoch 7/400\n",
      "4/4 [==============================] - 0s 16ms/step - loss: 0.0183 - val_loss: 0.0169\n",
      "Epoch 8/400\n",
      "4/4 [==============================] - 0s 12ms/step - loss: 0.0185 - val_loss: 0.0135\n",
      "Epoch 9/400\n",
      "4/4 [==============================] - 0s 15ms/step - loss: 0.0159 - val_loss: 0.0131\n",
      "Epoch 10/400\n",
      "4/4 [==============================] - 0s 19ms/step - loss: 0.0152 - val_loss: 0.0128\n",
      "Epoch 11/400\n",
      "4/4 [==============================] - 0s 14ms/step - loss: 0.0149 - val_loss: 0.0123\n",
      "Epoch 12/400\n",
      "4/4 [==============================] - 0s 13ms/step - loss: 0.0143 - val_loss: 0.0122\n",
      "Epoch 13/400\n",
      "4/4 [==============================] - 0s 13ms/step - loss: 0.0139 - val_loss: 0.0119\n",
      "Epoch 14/400\n",
      "4/4 [==============================] - 0s 13ms/step - loss: 0.0133 - val_loss: 0.0119\n",
      "Epoch 15/400\n",
      "4/4 [==============================] - 0s 16ms/step - loss: 0.0130 - val_loss: 0.0118\n",
      "Epoch 16/400\n",
      "4/4 [==============================] - 0s 14ms/step - loss: 0.0125 - val_loss: 0.0118\n",
      "Epoch 17/400\n",
      "4/4 [==============================] - 0s 12ms/step - loss: 0.0121 - val_loss: 0.0120\n",
      "Epoch 18/400\n",
      "4/4 [==============================] - 0s 13ms/step - loss: 0.0117 - val_loss: 0.0121\n",
      "Epoch 19/400\n",
      "4/4 [==============================] - 0s 13ms/step - loss: 0.0119 - val_loss: 0.0123\n",
      "Epoch 20/400\n",
      "4/4 [==============================] - 0s 18ms/step - loss: 0.0113 - val_loss: 0.0125\n",
      "Epoch 21/400\n",
      "4/4 [==============================] - 0s 17ms/step - loss: 0.0110 - val_loss: 0.0129\n",
      "Epoch 22/400\n",
      "4/4 [==============================] - 0s 14ms/step - loss: 0.0106 - val_loss: 0.0132\n",
      "Epoch 23/400\n",
      "4/4 [==============================] - 0s 13ms/step - loss: 0.0108 - val_loss: 0.0127\n",
      "Epoch 24/400\n",
      "4/4 [==============================] - 0s 17ms/step - loss: 0.0103 - val_loss: 0.0131\n",
      "Epoch 25/400\n",
      "4/4 [==============================] - 0s 14ms/step - loss: 0.0098 - val_loss: 0.0130\n",
      "Epoch 26/400\n",
      "4/4 [==============================] - 0s 13ms/step - loss: 0.0103 - val_loss: 0.0129\n",
      "Epoch 27/400\n",
      "4/4 [==============================] - 0s 12ms/step - loss: 0.0098 - val_loss: 0.0132\n",
      "Epoch 28/400\n",
      "4/4 [==============================] - 0s 15ms/step - loss: 0.0094 - val_loss: 0.0134\n",
      "Epoch 29/400\n",
      "4/4 [==============================] - 0s 13ms/step - loss: 0.0101 - val_loss: 0.0137\n",
      "Epoch 30/400\n",
      "4/4 [==============================] - 0s 19ms/step - loss: 0.0094 - val_loss: 0.0145\n",
      "Epoch 31/400\n",
      "4/4 [==============================] - 0s 18ms/step - loss: 0.0095 - val_loss: 0.0149\n",
      "Epoch 32/400\n",
      "4/4 [==============================] - 0s 14ms/step - loss: 0.0090 - val_loss: 0.0141\n",
      "Epoch 33/400\n",
      "4/4 [==============================] - 0s 15ms/step - loss: 0.0090 - val_loss: 0.0144\n",
      "Epoch 34/400\n",
      "4/4 [==============================] - 0s 14ms/step - loss: 0.0093 - val_loss: 0.0139\n",
      "Epoch 35/400\n",
      "4/4 [==============================] - 0s 17ms/step - loss: 0.0084 - val_loss: 0.0137\n"
     ]
    }
   ],
   "source": [
    "epochs_hist = model.fit(X_train, y_train, epochs=400, verbose=1, validation_split=0.2, batch_size=25, callbacks=callback)"
   ]
  },
  {
   "cell_type": "code",
   "execution_count": 260,
   "id": "3b791a6b",
   "metadata": {},
   "outputs": [
    {
     "data": {
      "text/plain": [
       "<matplotlib.legend.Legend at 0x7f12c162ca30>"
      ]
     },
     "execution_count": 260,
     "metadata": {},
     "output_type": "execute_result"
    },
    {
     "data": {
      "image/png": "[encoded data removed]",
      "text/plain": [
       "<Figure size 432x288 with 1 Axes>"
      ]
     },
     "metadata": {
      "needs_background": "light"
     },
     "output_type": "display_data"
    }
   ],
   "source": [
    "plt.plot(epochs_hist.history['loss'])\n",
    "plt.plot(epochs_hist.history['val_loss'])\n",
    "\n",
    "plt.title('Model Loss Progression During Training/Validation')\n",
    "plt.ylabel('Training and Validation Losses')\n",
    "plt.xlabel('Epoch Number')\n",
    "plt.legend(['Training Loss', 'Validation Loss'])"
   ]
  },
  {
   "cell_type": "markdown",
   "id": "05912430",
   "metadata": {},
   "source": [
    "#### Prediction using Test Data"
   ]
  },
  {
   "cell_type": "code",
   "execution_count": 261,
   "id": "55ed8550",
   "metadata": {},
   "outputs": [
    {
     "name": "stdout",
     "output_type": "stream",
     "text": [
      "1/1 [==============================] - 0s 100ms/step\n",
      "1/1 [==============================] - 0s 19ms/step - loss: 0.0179\n",
      "0.01790226250886917\n"
     ]
    }
   ],
   "source": [
    "y_pred = model.predict(X_test)\n",
    "score = model.evaluate(X_test, y_test,verbose=1)\n",
    "print(score)"
   ]
  },
  {
   "cell_type": "markdown",
   "id": "3cf77f75",
   "metadata": {},
   "source": [
    "### Mean Squared Error in Testing Data is 0.017 or 1.7%"
   ]
  },
  {
   "cell_type": "markdown",
   "id": "4bb92fd8",
   "metadata": {},
   "source": [
    "#### Prediction Using Manual Test Data (Arbitary) and You can check the above relationship behavior with other parameters to DO is working properly or not after Model Training & Prediction . It's Working Fine ... So Model is well Trained"
   ]
  },
  {
   "cell_type": "code",
   "execution_count": 296,
   "id": "7dda005d",
   "metadata": {},
   "outputs": [],
   "source": [
    "X_Testing = np.array([[179.32,6.95,4.279921,13.360183,20.0,138.402344,58.555469]])"
   ]
  },
  {
   "cell_type": "code",
   "execution_count": 297,
   "id": "e29c27ee",
   "metadata": {},
   "outputs": [
    {
     "name": "stdout",
     "output_type": "stream",
     "text": [
      "1/1 [==============================] - 0s 37ms/step\n"
     ]
    },
    {
     "data": {
      "text/plain": [
       "(1, 1)"
      ]
     },
     "execution_count": 297,
     "metadata": {},
     "output_type": "execute_result"
    }
   ],
   "source": [
    "y_predict = model.predict(X_Testing)\n",
    "y_predict.shape"
   ]
  },
  {
   "cell_type": "code",
   "execution_count": 298,
   "id": "68f3a276",
   "metadata": {},
   "outputs": [
    {
     "name": "stdout",
     "output_type": "stream",
     "text": [
      "Expected DO= [7.7844954]\n"
     ]
    }
   ],
   "source": [
    "print('Expected DO=', y_predict[:,0])"
   ]
  },
  {
   "cell_type": "code",
   "execution_count": null,
   "id": "addf5c87",
   "metadata": {},
   "outputs": [],
   "source": []
  }
 ],
 "metadata": {
  "kernelspec": {
   "display_name": "Python 3 (ipykernel)",
   "language": "python",
   "name": "python3"
  },
  "language_info": {
   "codemirror_mode": {
    "name": "ipython",
    "version": 3
   },
   "file_extension": ".py",
   "mimetype": "text/x-python",
   "name": "python",
   "nbconvert_exporter": "python",
   "pygments_lexer": "ipython3",
   "version": "3.8.10"
  }
 },
 "nbformat": 4,
 "nbformat_minor": 5
}
